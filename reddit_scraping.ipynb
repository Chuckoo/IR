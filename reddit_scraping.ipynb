{
 "cells": [
  {
   "cell_type": "code",
   "execution_count": 24,
   "metadata": {
    "colab": {
     "base_uri": "https://localhost:8080/"
    },
    "executionInfo": {
     "elapsed": 5998,
     "status": "ok",
     "timestamp": 1614485490795,
     "user": {
      "displayName": "BitsInBytes",
      "photoUrl": "https://lh3.googleusercontent.com/a-/AOh14Gj4_qtDugwTI7x9UjhXAbLPMQvtcyQD3UMj8gLc=s64",
      "userId": "13908254166643482828"
     },
     "user_tz": 360
    },
    "id": "xSjHfXGHAZJ1",
    "outputId": "60305c38-0fac-4276-b24c-5280f400ccef"
   },
   "outputs": [],
   "source": [
    "from dotenv import dotenv_values\n",
    "import praw"
   ]
  },
  {
   "cell_type": "code",
   "execution_count": null,
   "metadata": {},
   "outputs": [],
   "source": [
    "config = dotenv_values(\".env\")"
   ]
  },
  {
   "cell_type": "code",
   "execution_count": 32,
   "metadata": {
    "executionInfo": {
     "elapsed": 390,
     "status": "ok",
     "timestamp": 1614485552402,
     "user": {
      "displayName": "BitsInBytes",
      "photoUrl": "https://lh3.googleusercontent.com/a-/AOh14Gj4_qtDugwTI7x9UjhXAbLPMQvtcyQD3UMj8gLc=s64",
      "userId": "13908254166643482828"
     },
     "user_tz": 360
    },
    "id": "GoEwukL7BLrZ"
   },
   "outputs": [],
   "source": [
    "reddit = praw.Reddit(client_id=config['client_id'], client_secret=config['client_secret'], user_agent=config['user_agent'])"
   ]
  },
  {
   "cell_type": "code",
   "execution_count": null,
   "metadata": {
    "colab": {
     "base_uri": "https://localhost:8080/"
    },
    "executionInfo": {
     "elapsed": 830,
     "status": "ok",
     "timestamp": 1614485558714,
     "user": {
      "displayName": "BitsInBytes",
      "photoUrl": "https://lh3.googleusercontent.com/a-/AOh14Gj4_qtDugwTI7x9UjhXAbLPMQvtcyQD3UMj8gLc=s64",
      "userId": "13908254166643482828"
     },
     "user_tz": 360
    },
    "id": "k8rCZ9heDTrQ",
    "outputId": "8f1e299c-7c66-4ff0-985a-974b48aa2b7e"
   },
   "outputs": [],
   "source": [
    "import pandas as pd\n",
    "subreddit = reddit.subreddit('travel')\n",
    "search_query = 'United States'\n",
    "\n",
    "submissions = subreddit.search(query=search_query, sort='top', time_filter='all', limit=200)\n",
    "thread_ids = []\n",
    "thread_titles = []\n",
    "thread_urls = []\n",
    "thread_contents = []\n",
    "thread_name = []\n",
    "thread_author = []\n",
    "thread_created_utc = []\n",
    "thread_subreddit_id = []\n",
    "thread_subreddit = []\n",
    "comments_list = []\n",
    "\n",
    "for submission in submissions:\n",
    "    thread_ids.append(submission.id)\n",
    "    thread_subreddit.append(submission.subreddit)\n",
    "    thread_name.append(submission.name)\n",
    "    thread_author.append(submission.author.name if submission.author else '[deleted]',)\n",
    "    thread_titles.append(submission.title)\n",
    "    thread_contents.append(submission.selftext)\n",
    "    thread_urls.append(submission.url)\n",
    "    thread_created_utc.append(submission.created_utc)\n",
    "    thread_subreddit_id.append(submission.subreddit_id)\n",
    "    \n",
    "    submission.comments.replace_more(limit=10)\n",
    "    comments = submission.comments.list()\n",
    "\n",
    "    for comment in comments:\n",
    "        comments_list.append({\n",
    "            'id': comment.id,\n",
    "            'post_id': submission.id,\n",
    "            'post_title': submission.title,\n",
    "            'comment': comment.body,\n",
    "            'author': comment.author.name if comment.author else '[deleted]',\n",
    "            'created_at': comment.created_utc\n",
    "        })\n",
    "\n",
    "\n",
    "post_data = {\n",
    "    'id': thread_ids,\n",
    "    'title': thread_titles,\n",
    "    'url': thread_urls,\n",
    "    'content': thread_contents,\n",
    "    'name': thread_name,\n",
    "    'author': thread_author,\n",
    "    'created_at': thread_created_utc,\n",
    "    'subreddit': thread_subreddit,\n",
    "    'subreddit_id': thread_subreddit_id\n",
    "}\n",
    "\n",
    "post_df = pd.DataFrame(post_data)\n",
    "\n",
    "comment_df = pd.DataFrame(comments_list)\n",
    "\n",
    "post_df.to_csv('travel_posts_data.csv', index=False)\n",
    "comment_df.to_csv('travel_comments_data.csv', index=False)\n",
    "\n",
    "print(\"Data has been successfully saved to 'travel_posts_data.csv' and 'travel_comments_data.csv'.\")\n"
   ]
  }
 ],
 "metadata": {
  "colab": {
   "name": "Ep_3_Reddit_Scraping.ipynb",
   "provenance": []
  },
  "kernelspec": {
   "display_name": "Python 3 (ipykernel)",
   "language": "python",
   "name": "python3"
  },
  "language_info": {
   "codemirror_mode": {
    "name": "ipython",
    "version": 3
   },
   "file_extension": ".py",
   "mimetype": "text/x-python",
   "name": "python",
   "nbconvert_exporter": "python",
   "pygments_lexer": "ipython3",
   "version": "3.10.12"
  }
 },
 "nbformat": 4,
 "nbformat_minor": 4
}
